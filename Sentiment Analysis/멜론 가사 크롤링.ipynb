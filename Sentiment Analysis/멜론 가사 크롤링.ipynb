{
 "cells": [
  {
   "cell_type": "code",
   "execution_count": 1,
   "id": "c619fc0b",
   "metadata": {},
   "outputs": [],
   "source": [
    "import time\n",
    "import re\n",
    "import pandas as pd\n",
    "import requests\n",
    "from bs4 import BeautifulSoup\n",
    "from selenium import webdriver\n",
    "from selenium.webdriver.common.keys import Keys"
   ]
  },
  {
   "cell_type": "code",
   "execution_count": 2,
   "id": "98e8f0e8",
   "metadata": {},
   "outputs": [
    {
     "name": "stderr",
     "output_type": "stream",
     "text": [
      "C:\\Users\\user\\anaconda3\\lib\\site-packages\\ipykernel_launcher.py:3: DeprecationWarning: executable_path has been deprecated, please pass in a Service object\n",
      "  This is separate from the ipykernel package so we can avoid doing imports until\n"
     ]
    }
   ],
   "source": [
    "# webdriver_options = webdriver.ChromeOptions()\n",
    "# webdriver_options.add_argument('headless') \n",
    "driver = webdriver.Chrome('C:\\chromedriver_win32\\chromedriver.exe')"
   ]
  },
  {
   "cell_type": "markdown",
   "id": "573e0ced",
   "metadata": {},
   "source": [
    "## 멜론 연도별 top 100 가사 크롤링\n",
    "* 연령제한 걸려있는 노래가 있어 모두 가져오기 위해서는 로그인 하고 돌려야 함 \n",
    "* 로그인 하지 않아도 에러는 나지 않음! "
   ]
  },
  {
   "cell_type": "code",
   "execution_count": 17,
   "id": "d6db45c5",
   "metadata": {},
   "outputs": [
    {
     "name": "stderr",
     "output_type": "stream",
     "text": [
      "C:\\Users\\user\\anaconda3\\lib\\site-packages\\ipykernel_launcher.py:38: DeprecationWarning: find_elements_by_* commands are deprecated. Please use find_elements() instead\n",
      "C:\\Users\\user\\anaconda3\\lib\\site-packages\\ipykernel_launcher.py:40: DeprecationWarning: find_elements_by_* commands are deprecated. Please use find_elements() instead\n",
      "C:\\Users\\user\\anaconda3\\lib\\site-packages\\ipykernel_launcher.py:42: DeprecationWarning: find_elements_by_* commands are deprecated. Please use find_elements() instead\n"
     ]
    },
    {
     "name": "stdout",
     "output_type": "stream",
     "text": [
      "2010 년도 노래들을 모두 가져왔습니다.\n",
      "2011 년도 노래들을 모두 가져왔습니다.\n",
      "2012 년도 노래들을 모두 가져왔습니다.\n",
      "2013 년도 노래들을 모두 가져왔습니다.\n",
      "2014 년도 노래들을 모두 가져왔습니다.\n"
     ]
    }
   ],
   "source": [
    "all_data=pd.DataFrame()\n",
    "start = 2010 #시작 연도\n",
    "end = 2014 #끝나는 연도\n",
    "for year in range(start,end+1) :  #가져올 연도 지정 \n",
    "    \n",
    "    url=f'https://www.melon.com/chart/age/index.htm?chartType=YE&chartGenre=KPOP&chartDate={year}'\n",
    "    driver.get(url)\n",
    "    time.sleep(2)\n",
    "    html=driver.page_source\n",
    "    soup = BeautifulSoup(html, \"lxml\")\n",
    "\n",
    "\n",
    "    ###### 상세페이지 정보 가져오기 \n",
    "    detail_num=[]\n",
    "    #1~50위 노래 상세페이지 num 저장\n",
    "    for rank in range(50) :\n",
    "        detail=soup.select('tr.lst50>td.t_left>div.wrap>a')[rank]['onclick']\n",
    "        num=re.sub('[^0-9]','',detail)\n",
    "        detail_num.append(num) #숫자만 남기기\n",
    "\n",
    "    #50~100위 노래 상세페이지 num 저장\n",
    "    for rank in range(50) :\n",
    "        detail=soup.select('tr.lst100>td.t_left>div.wrap>a')[rank]['onclick']\n",
    "        num=re.sub('[^0-9]','',detail)\n",
    "        detail_num.append(num) #숫자만 남기기    \n",
    "\n",
    "    time.sleep(1)\n",
    "\n",
    "    ###### 20xx연도 top  n 가사 크롤링   \n",
    "    dataset=pd.DataFrame()\n",
    "    top = 100 # 상위 몇곡 가져올지 지정 가능\n",
    "    for i in range(top): \n",
    "        try :\n",
    "            driver.get('https://www.melon.com/song/detail.htm?songId={detail_num}'.format(detail_num=detail_num[i]))\n",
    "            time.sleep(2)\n",
    "            #가사,노래제목,가수 크롤링 함수 \n",
    "\n",
    "            lyric = driver.find_elements_by_class_name('lyric')[0].text #가사\n",
    "            time.sleep(0.5)\n",
    "            song_name = driver.find_elements_by_class_name('song_name')[0].text #노래제목 \n",
    "            time.sleep(0.5)\n",
    "            artist = driver.find_elements_by_class_name('artist')[0].text #가수 이름\n",
    "\n",
    "            lyrics = list(filter(None,lyric.split('\\n'))) # split 후 공백제거 \n",
    "            df=pd.DataFrame({'lyrics':lyrics})\n",
    "            df['artist']=artist\n",
    "            df['song_name']=song_name\n",
    "            df['Year']=year #연도추가\n",
    "            dataset=dataset.append(df) \n",
    "        except :\n",
    "            pass\n",
    "        \n",
    "        time.sleep(0.5)\n",
    "    print(year,'년도 노래들을 모두 가져왔습니다.')    \n",
    "    all_data=all_data.append(dataset)"
   ]
  },
  {
   "cell_type": "code",
   "execution_count": 18,
   "id": "21c76354",
   "metadata": {},
   "outputs": [],
   "source": [
    "data2=all_data"
   ]
  },
  {
   "cell_type": "code",
   "execution_count": 26,
   "id": "bd747fad",
   "metadata": {},
   "outputs": [
    {
     "data": {
      "text/html": [
       "<div>\n",
       "<style scoped>\n",
       "    .dataframe tbody tr th:only-of-type {\n",
       "        vertical-align: middle;\n",
       "    }\n",
       "\n",
       "    .dataframe tbody tr th {\n",
       "        vertical-align: top;\n",
       "    }\n",
       "\n",
       "    .dataframe thead th {\n",
       "        text-align: right;\n",
       "    }\n",
       "</style>\n",
       "<table border=\"1\" class=\"dataframe\">\n",
       "  <thead>\n",
       "    <tr style=\"text-align: right;\">\n",
       "      <th></th>\n",
       "      <th>lyrics</th>\n",
       "      <th>artist</th>\n",
       "      <th>song_name</th>\n",
       "      <th>Year</th>\n",
       "    </tr>\n",
       "  </thead>\n",
       "  <tbody>\n",
       "    <tr>\n",
       "      <th>0</th>\n",
       "      <td>You don't know me</td>\n",
       "      <td>미쓰에이</td>\n",
       "      <td>Bad Girl Good Girl</td>\n",
       "      <td>2010</td>\n",
       "    </tr>\n",
       "    <tr>\n",
       "      <th>1</th>\n",
       "      <td>You don't know me</td>\n",
       "      <td>미쓰에이</td>\n",
       "      <td>Bad Girl Good Girl</td>\n",
       "      <td>2010</td>\n",
       "    </tr>\n",
       "    <tr>\n",
       "      <th>2</th>\n",
       "      <td>You don't know me</td>\n",
       "      <td>미쓰에이</td>\n",
       "      <td>Bad Girl Good Girl</td>\n",
       "      <td>2010</td>\n",
       "    </tr>\n",
       "    <tr>\n",
       "      <th>3</th>\n",
       "      <td>You don't know me</td>\n",
       "      <td>미쓰에이</td>\n",
       "      <td>Bad Girl Good Girl</td>\n",
       "      <td>2010</td>\n",
       "    </tr>\n",
       "    <tr>\n",
       "      <th>4</th>\n",
       "      <td>So shut off boy</td>\n",
       "      <td>미쓰에이</td>\n",
       "      <td>Bad Girl Good Girl</td>\n",
       "      <td>2010</td>\n",
       "    </tr>\n",
       "    <tr>\n",
       "      <th>...</th>\n",
       "      <td>...</td>\n",
       "      <td>...</td>\n",
       "      <td>...</td>\n",
       "      <td>...</td>\n",
       "    </tr>\n",
       "    <tr>\n",
       "      <th>68</th>\n",
       "      <td>떡볶이 떡볶이 순대 순대</td>\n",
       "      <td>박명수</td>\n",
       "      <td>명수네 떡볶이 (Feat. 김예림, UL)</td>\n",
       "      <td>2014</td>\n",
       "    </tr>\n",
       "    <tr>\n",
       "      <th>69</th>\n",
       "      <td>말해봐 다 있어</td>\n",
       "      <td>박명수</td>\n",
       "      <td>명수네 떡볶이 (Feat. 김예림, UL)</td>\n",
       "      <td>2014</td>\n",
       "    </tr>\n",
       "    <tr>\n",
       "      <th>70</th>\n",
       "      <td>떡볶이 떡볶이 튀김 튀김</td>\n",
       "      <td>박명수</td>\n",
       "      <td>명수네 떡볶이 (Feat. 김예림, UL)</td>\n",
       "      <td>2014</td>\n",
       "    </tr>\n",
       "    <tr>\n",
       "      <th>71</th>\n",
       "      <td>떡볶이 떡볶이 김밥</td>\n",
       "      <td>박명수</td>\n",
       "      <td>명수네 떡볶이 (Feat. 김예림, UL)</td>\n",
       "      <td>2014</td>\n",
       "    </tr>\n",
       "    <tr>\n",
       "      <th>72</th>\n",
       "      <td>모두 다 있어</td>\n",
       "      <td>박명수</td>\n",
       "      <td>명수네 떡볶이 (Feat. 김예림, UL)</td>\n",
       "      <td>2014</td>\n",
       "    </tr>\n",
       "  </tbody>\n",
       "</table>\n",
       "<p>28707 rows × 4 columns</p>\n",
       "</div>"
      ],
      "text/plain": [
       "               lyrics artist                song_name  Year\n",
       "0   You don't know me   미쓰에이       Bad Girl Good Girl  2010\n",
       "1   You don't know me   미쓰에이       Bad Girl Good Girl  2010\n",
       "2   You don't know me   미쓰에이       Bad Girl Good Girl  2010\n",
       "3   You don't know me   미쓰에이       Bad Girl Good Girl  2010\n",
       "4     So shut off boy   미쓰에이       Bad Girl Good Girl  2010\n",
       "..                ...    ...                      ...   ...\n",
       "68      떡볶이 떡볶이 순대 순대    박명수  명수네 떡볶이 (Feat. 김예림, UL)  2014\n",
       "69           말해봐 다 있어    박명수  명수네 떡볶이 (Feat. 김예림, UL)  2014\n",
       "70      떡볶이 떡볶이 튀김 튀김    박명수  명수네 떡볶이 (Feat. 김예림, UL)  2014\n",
       "71         떡볶이 떡볶이 김밥    박명수  명수네 떡볶이 (Feat. 김예림, UL)  2014\n",
       "72            모두 다 있어    박명수  명수네 떡볶이 (Feat. 김예림, UL)  2014\n",
       "\n",
       "[28707 rows x 4 columns]"
      ]
     },
     "execution_count": 26,
     "metadata": {},
     "output_type": "execute_result"
    }
   ],
   "source": [
    "data2"
   ]
  },
  {
   "cell_type": "code",
   "execution_count": 15,
   "id": "97852059",
   "metadata": {},
   "outputs": [],
   "source": [
    "#data1.to_csv('멜론가사크롤링1.csv',index=False)\n",
    "#data2.to_csv('멜론가사크롤링2.csv',index=False)"
   ]
  },
  {
   "cell_type": "markdown",
   "id": "3a9046b1",
   "metadata": {},
   "source": [
    "* 혹시 모를 에러 방지를 위해 2번 나눠서 크롤링 진행"
   ]
  },
  {
   "cell_type": "code",
   "execution_count": 21,
   "id": "4e453405",
   "metadata": {},
   "outputs": [
    {
     "name": "stdout",
     "output_type": "stream",
     "text": [
      " 2010년부터 2014년까지 가져온 노래 개수는 475 곡 입니다.\n",
      " 2015년부터 2021년까지 가져온 노래 개수는 567 곡 입니다.\n"
     ]
    }
   ],
   "source": [
    "print(' 2010년부터 2014년까지 가져온 노래 개수는',len(data2.song_name.unique()),'곡 입니다.') #노래개수\n",
    "print(' 2015년부터 2021년까지 가져온 노래 개수는',len(data1.song_name.unique()),'곡 입니다.') #노래개수"
   ]
  },
  {
   "cell_type": "code",
   "execution_count": 43,
   "id": "b6d7d172",
   "metadata": {},
   "outputs": [
    {
     "name": "stdout",
     "output_type": "stream",
     "text": [
      " 2010년부터 2021년까지 가져온 노래 개수는 1025 곡 입니다.\n"
     ]
    }
   ],
   "source": [
    "data=pd.concat([data2,data1])\n",
    "print(' 2010년부터 2021년까지 가져온 노래 개수는',len(data.song_name.unique()),'곡 입니다.')"
   ]
  },
  {
   "cell_type": "code",
   "execution_count": null,
   "id": "6a69724e",
   "metadata": {},
   "outputs": [],
   "source": [
    "data.to_csv('멜론가사크롤링2010to2021.csv',index=False)"
   ]
  },
  {
   "cell_type": "code",
   "execution_count": 33,
   "id": "0fb87531",
   "metadata": {},
   "outputs": [],
   "source": [
    "#data=data.set_index('song_name')  # index 노래 제목으로 설정"
   ]
  },
  {
   "cell_type": "code",
   "execution_count": 54,
   "id": "07cc7bb4",
   "metadata": {},
   "outputs": [
    {
     "data": {
      "text/html": [
       "<div>\n",
       "<style scoped>\n",
       "    .dataframe tbody tr th:only-of-type {\n",
       "        vertical-align: middle;\n",
       "    }\n",
       "\n",
       "    .dataframe tbody tr th {\n",
       "        vertical-align: top;\n",
       "    }\n",
       "\n",
       "    .dataframe thead th {\n",
       "        text-align: right;\n",
       "    }\n",
       "</style>\n",
       "<table border=\"1\" class=\"dataframe\">\n",
       "  <thead>\n",
       "    <tr style=\"text-align: right;\">\n",
       "      <th></th>\n",
       "      <th>lyrics</th>\n",
       "      <th>artist</th>\n",
       "      <th>song_name</th>\n",
       "      <th>Year</th>\n",
       "    </tr>\n",
       "  </thead>\n",
       "  <tbody>\n",
       "    <tr>\n",
       "      <th>0</th>\n",
       "      <td>You don't know me</td>\n",
       "      <td>미쓰에이</td>\n",
       "      <td>Bad Girl Good Girl</td>\n",
       "      <td>2010</td>\n",
       "    </tr>\n",
       "    <tr>\n",
       "      <th>1</th>\n",
       "      <td>You don't know me</td>\n",
       "      <td>미쓰에이</td>\n",
       "      <td>Bad Girl Good Girl</td>\n",
       "      <td>2010</td>\n",
       "    </tr>\n",
       "    <tr>\n",
       "      <th>2</th>\n",
       "      <td>You don't know me</td>\n",
       "      <td>미쓰에이</td>\n",
       "      <td>Bad Girl Good Girl</td>\n",
       "      <td>2010</td>\n",
       "    </tr>\n",
       "    <tr>\n",
       "      <th>3</th>\n",
       "      <td>You don't know me</td>\n",
       "      <td>미쓰에이</td>\n",
       "      <td>Bad Girl Good Girl</td>\n",
       "      <td>2010</td>\n",
       "    </tr>\n",
       "    <tr>\n",
       "      <th>4</th>\n",
       "      <td>So shut off boy</td>\n",
       "      <td>미쓰에이</td>\n",
       "      <td>Bad Girl Good Girl</td>\n",
       "      <td>2010</td>\n",
       "    </tr>\n",
       "    <tr>\n",
       "      <th>...</th>\n",
       "      <td>...</td>\n",
       "      <td>...</td>\n",
       "      <td>...</td>\n",
       "      <td>...</td>\n",
       "    </tr>\n",
       "    <tr>\n",
       "      <th>90</th>\n",
       "      <td>끝이 아니길</td>\n",
       "      <td>릴보이 (lIlBOI)</td>\n",
       "      <td>CREDIT (Feat. 염따, 기리보이, Zion.T)</td>\n",
       "      <td>2021</td>\n",
       "    </tr>\n",
       "    <tr>\n",
       "      <th>91</th>\n",
       "      <td>I wish I make it till the last day</td>\n",
       "      <td>릴보이 (lIlBOI)</td>\n",
       "      <td>CREDIT (Feat. 염따, 기리보이, Zion.T)</td>\n",
       "      <td>2021</td>\n",
       "    </tr>\n",
       "    <tr>\n",
       "      <th>92</th>\n",
       "      <td>I wish I make it till the last day</td>\n",
       "      <td>릴보이 (lIlBOI)</td>\n",
       "      <td>CREDIT (Feat. 염따, 기리보이, Zion.T)</td>\n",
       "      <td>2021</td>\n",
       "    </tr>\n",
       "    <tr>\n",
       "      <th>93</th>\n",
       "      <td>I wish I make it till the last day</td>\n",
       "      <td>릴보이 (lIlBOI)</td>\n",
       "      <td>CREDIT (Feat. 염따, 기리보이, Zion.T)</td>\n",
       "      <td>2021</td>\n",
       "    </tr>\n",
       "    <tr>\n",
       "      <th>94</th>\n",
       "      <td>I wish I make it till the last</td>\n",
       "      <td>릴보이 (lIlBOI)</td>\n",
       "      <td>CREDIT (Feat. 염따, 기리보이, Zion.T)</td>\n",
       "      <td>2021</td>\n",
       "    </tr>\n",
       "  </tbody>\n",
       "</table>\n",
       "<p>67275 rows × 4 columns</p>\n",
       "</div>"
      ],
      "text/plain": [
       "                                lyrics        artist  \\\n",
       "0                    You don't know me          미쓰에이   \n",
       "1                    You don't know me          미쓰에이   \n",
       "2                    You don't know me          미쓰에이   \n",
       "3                    You don't know me          미쓰에이   \n",
       "4                      So shut off boy          미쓰에이   \n",
       "..                                 ...           ...   \n",
       "90                              끝이 아니길  릴보이 (lIlBOI)   \n",
       "91  I wish I make it till the last day  릴보이 (lIlBOI)   \n",
       "92  I wish I make it till the last day  릴보이 (lIlBOI)   \n",
       "93  I wish I make it till the last day  릴보이 (lIlBOI)   \n",
       "94      I wish I make it till the last  릴보이 (lIlBOI)   \n",
       "\n",
       "                          song_name  Year  \n",
       "0                Bad Girl Good Girl  2010  \n",
       "1                Bad Girl Good Girl  2010  \n",
       "2                Bad Girl Good Girl  2010  \n",
       "3                Bad Girl Good Girl  2010  \n",
       "4                Bad Girl Good Girl  2010  \n",
       "..                              ...   ...  \n",
       "90  CREDIT (Feat. 염따, 기리보이, Zion.T)  2021  \n",
       "91  CREDIT (Feat. 염따, 기리보이, Zion.T)  2021  \n",
       "92  CREDIT (Feat. 염따, 기리보이, Zion.T)  2021  \n",
       "93  CREDIT (Feat. 염따, 기리보이, Zion.T)  2021  \n",
       "94  CREDIT (Feat. 염따, 기리보이, Zion.T)  2021  \n",
       "\n",
       "[67275 rows x 4 columns]"
      ]
     },
     "execution_count": 54,
     "metadata": {},
     "output_type": "execute_result"
    }
   ],
   "source": [
    "data"
   ]
  }
 ],
 "metadata": {
  "kernelspec": {
   "display_name": "Python 3 (ipykernel)",
   "language": "python",
   "name": "python3"
  },
  "language_info": {
   "codemirror_mode": {
    "name": "ipython",
    "version": 3
   },
   "file_extension": ".py",
   "mimetype": "text/x-python",
   "name": "python",
   "nbconvert_exporter": "python",
   "pygments_lexer": "ipython3",
   "version": "3.7.11"
  }
 },
 "nbformat": 4,
 "nbformat_minor": 5
}
