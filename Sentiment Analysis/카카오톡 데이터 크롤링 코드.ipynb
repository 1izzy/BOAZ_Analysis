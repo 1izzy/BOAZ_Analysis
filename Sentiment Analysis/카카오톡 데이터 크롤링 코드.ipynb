{
 "cells": [
  {
   "cell_type": "markdown",
   "id": "6dd95af6",
   "metadata": {},
   "source": [
    "# 카카오톡 대화 불러오는 코드  \n",
    "* 말풍선이 한 행을 구성\n",
    "* pc카톡 대화내보기에서는 실행되지 않음"
   ]
  },
  {
   "cell_type": "code",
   "execution_count": 4,
   "id": "7ca38366",
   "metadata": {},
   "outputs": [],
   "source": [
    "import re\n",
    "import pandas as pd\n",
    "import os "
   ]
  },
  {
   "cell_type": "code",
   "execution_count": 23,
   "id": "7bde06c2",
   "metadata": {},
   "outputs": [],
   "source": [
    "def katalk_msg_parse(file_path):\n",
    "    my_katalk_data = list()\n",
    "    katalk_msg_pattern = \"[0-9]{4}[년.] [0-9]{1,2}[월.] [0-9]{1,2}[일.] 오\\S [0-9]{1,2}:[0-9]{1,2},.*:\"\n",
    "    date_info = \"[0-9]{4}년 [0-9]{1,2}월 [0-9]{1,2}일 \\S요일\"\n",
    "    in_out_info = \"[0-9]{4}[년.] [0-9]{1,2}[월.] [0-9]{1,2}[일.] 오\\S [0-9]{1,2}:[0-9]{1,2}:.*\"\n",
    "\n",
    "    for line in open(file_path,'rt', encoding='UTF8'):\n",
    "        if re.match(date_info, line) or re.match(in_out_info, line):\n",
    "            continue\n",
    "        elif line == '\\n':\n",
    "            continue\n",
    "        elif re.match(katalk_msg_pattern, line):\n",
    "            line = line.split(\",\")\n",
    "            date_time = line[0]\n",
    "            user_text = line[1].split(\" : \", maxsplit=1)\n",
    "            user_name = user_text[0].strip()\n",
    "            text = user_text[1].strip()\n",
    "            my_katalk_data.append({'date_time': date_time,\n",
    "                                   'user_name': user_name,\n",
    "                                   'text': text\n",
    "                                   })\n",
    "\n",
    "        else:\n",
    "            if len(my_katalk_data) > 0:\n",
    "                my_katalk_data[-1]['text'] += \"\\n\"+line.strip()\n",
    "\n",
    "    my_katalk_df = pd.DataFrame(my_katalk_data)\n",
    "\n",
    "    return my_katalk_df"
   ]
  },
  {
   "cell_type": "code",
   "execution_count": null,
   "id": "89df9444",
   "metadata": {},
   "outputs": [],
   "source": [
    "f_path = 'C:/Users/user/Desktop/보아즈/분석 base/감성분석/' # 파일이 저장되어 있는 경로\n",
    "f_name = 'Talk_2022.6.2 21_44-1.txt' # 카톡 대화내보내기 파일 이름\n",
    "\n",
    "df = katalk_msg_parse(os.path.join(f_path, f_name))"
   ]
  },
  {
   "cell_type": "code",
   "execution_count": null,
   "id": "a93c815d",
   "metadata": {},
   "outputs": [],
   "source": []
  },
  {
   "cell_type": "code",
   "execution_count": null,
   "id": "acc4ed46",
   "metadata": {},
   "outputs": [],
   "source": []
  }
 ],
 "metadata": {
  "kernelspec": {
   "display_name": "Python 3 (ipykernel)",
   "language": "python",
   "name": "python3"
  },
  "language_info": {
   "codemirror_mode": {
    "name": "ipython",
    "version": 3
   },
   "file_extension": ".py",
   "mimetype": "text/x-python",
   "name": "python",
   "nbconvert_exporter": "python",
   "pygments_lexer": "ipython3",
   "version": "3.7.11"
  }
 },
 "nbformat": 4,
 "nbformat_minor": 5
}
